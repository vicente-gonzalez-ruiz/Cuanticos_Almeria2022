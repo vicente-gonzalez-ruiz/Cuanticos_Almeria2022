{
 "cells": [
  {
   "cell_type": "markdown",
   "metadata": {
    "id": "vh5qNW1XFcqO"
   },
   "source": [
    "# 0.- HAMILTONIANS\n",
    "\n",
    "### Setup"
   ]
  },
  {
   "cell_type": "code",
   "execution_count": 1,
   "metadata": {
    "id": "cq2SCZeWFbKF"
   },
   "outputs": [
    {
     "name": "stdout",
     "output_type": "stream",
     "text": [
      "Defaulting to user installation because normal site-packages is not writeable\n",
      "Requirement already satisfied: qiskit in /home/vruiz/.local/lib/python3.10/site-packages (0.36.2)\n",
      "Requirement already satisfied: qiskit-terra==0.20.2 in /home/vruiz/.local/lib/python3.10/site-packages (from qiskit) (0.20.2)\n",
      "Requirement already satisfied: qiskit-aer==0.10.4 in /home/vruiz/.local/lib/python3.10/site-packages (from qiskit) (0.10.4)\n",
      "Requirement already satisfied: qiskit-ibmq-provider==0.19.1 in /home/vruiz/.local/lib/python3.10/site-packages (from qiskit) (0.19.1)\n",
      "Requirement already satisfied: qiskit-ignis==0.7.1 in /home/vruiz/.local/lib/python3.10/site-packages (from qiskit) (0.7.1)\n",
      "Requirement already satisfied: numpy>=1.16.3 in /home/vruiz/.local/lib/python3.10/site-packages (from qiskit-aer==0.10.4->qiskit) (1.22.4)\n",
      "Requirement already satisfied: scipy>=1.0 in /home/vruiz/.local/lib/python3.10/site-packages (from qiskit-aer==0.10.4->qiskit) (1.7.3)\n",
      "Requirement already satisfied: requests>=2.19 in /usr/lib/python3.10/site-packages (from qiskit-ibmq-provider==0.19.1->qiskit) (2.28.1)\n",
      "Requirement already satisfied: requests-ntlm>=1.1.0 in /home/vruiz/.local/lib/python3.10/site-packages (from qiskit-ibmq-provider==0.19.1->qiskit) (1.1.0)\n",
      "Requirement already satisfied: urllib3>=1.21.1 in /usr/lib/python3.10/site-packages (from qiskit-ibmq-provider==0.19.1->qiskit) (1.26.11)\n",
      "Requirement already satisfied: python-dateutil>=2.8.0 in /home/vruiz/.local/lib/python3.10/site-packages (from qiskit-ibmq-provider==0.19.1->qiskit) (2.8.2)\n",
      "Requirement already satisfied: websocket-client>=1.0.1 in /home/vruiz/.local/lib/python3.10/site-packages (from qiskit-ibmq-provider==0.19.1->qiskit) (1.3.2)\n",
      "Requirement already satisfied: websockets>=10.0 in /home/vruiz/.local/lib/python3.10/site-packages (from qiskit-ibmq-provider==0.19.1->qiskit) (10.3)\n",
      "Requirement already satisfied: retworkx>=0.8.0 in /home/vruiz/.local/lib/python3.10/site-packages (from qiskit-ignis==0.7.1->qiskit) (0.11.0)\n",
      "Requirement already satisfied: setuptools>=40.1.0 in /usr/lib/python3.10/site-packages (from qiskit-ignis==0.7.1->qiskit) (61.3.1)\n",
      "Requirement already satisfied: ply>=3.10 in /usr/lib/python3.10/site-packages (from qiskit-terra==0.20.2->qiskit) (3.11)\n",
      "Requirement already satisfied: psutil>=5 in /usr/lib/python3.10/site-packages (from qiskit-terra==0.20.2->qiskit) (5.9.1)\n",
      "Requirement already satisfied: sympy>=1.3 in /home/vruiz/.local/lib/python3.10/site-packages (from qiskit-terra==0.20.2->qiskit) (1.10.1)\n",
      "Requirement already satisfied: dill>=0.3 in /home/vruiz/.local/lib/python3.10/site-packages (from qiskit-terra==0.20.2->qiskit) (0.3.5.1)\n",
      "Requirement already satisfied: python-constraint>=1.4 in /home/vruiz/.local/lib/python3.10/site-packages (from qiskit-terra==0.20.2->qiskit) (1.4.0)\n",
      "Requirement already satisfied: stevedore>=3.0.0 in /home/vruiz/.local/lib/python3.10/site-packages (from qiskit-terra==0.20.2->qiskit) (3.5.0)\n",
      "Requirement already satisfied: tweedledum<2.0,>=1.1 in /home/vruiz/.local/lib/python3.10/site-packages (from qiskit-terra==0.20.2->qiskit) (1.1.1)\n",
      "Requirement already satisfied: symengine>=0.9 in /home/vruiz/.local/lib/python3.10/site-packages (from qiskit-terra==0.20.2->qiskit) (0.9.2)\n",
      "Requirement already satisfied: six>=1.5 in /usr/lib/python3.10/site-packages (from python-dateutil>=2.8.0->qiskit-ibmq-provider==0.19.1->qiskit) (1.16.0)\n",
      "Requirement already satisfied: idna<4,>=2.5 in /usr/lib/python3.10/site-packages (from requests>=2.19->qiskit-ibmq-provider==0.19.1->qiskit) (3.3)\n",
      "Requirement already satisfied: ntlm-auth>=1.0.2 in /home/vruiz/.local/lib/python3.10/site-packages (from requests-ntlm>=1.1.0->qiskit-ibmq-provider==0.19.1->qiskit) (1.5.0)\n",
      "Requirement already satisfied: cryptography>=1.3 in /usr/lib/python3.10/site-packages (from requests-ntlm>=1.1.0->qiskit-ibmq-provider==0.19.1->qiskit) (37.0.4)\n",
      "Requirement already satisfied: pbr!=2.1.0,>=2.0.0 in /home/vruiz/.local/lib/python3.10/site-packages (from stevedore>=3.0.0->qiskit-terra==0.20.2->qiskit) (5.9.0)\n",
      "Requirement already satisfied: mpmath>=0.19 in /home/vruiz/.local/lib/python3.10/site-packages (from sympy>=1.3->qiskit-terra==0.20.2->qiskit) (1.2.1)\n",
      "Requirement already satisfied: cffi>=1.12 in /usr/lib/python3.10/site-packages (from cryptography>=1.3->requests-ntlm>=1.1.0->qiskit-ibmq-provider==0.19.1->qiskit) (1.15.1)\n",
      "Requirement already satisfied: pycparser in /usr/lib/python3.10/site-packages (from cffi>=1.12->cryptography>=1.3->requests-ntlm>=1.1.0->qiskit-ibmq-provider==0.19.1->qiskit) (2.21)\n",
      "Note: you may need to restart the kernel to use updated packages.\n"
     ]
    }
   ],
   "source": [
    "pip install qiskit"
   ]
  },
  {
   "cell_type": "markdown",
   "metadata": {
    "id": "QG2m_FT3GgQ6"
   },
   "source": [
    "## 0.1- Statevectors"
   ]
  },
  {
   "cell_type": "code",
   "execution_count": 2,
   "metadata": {
    "id": "GvoF1FgEFl3_"
   },
   "outputs": [
    {
     "name": "stdout",
     "output_type": "stream",
     "text": [
      "zero is Statevector([1.+0.j, 0.+0.j],\n",
      "            dims=(2,))\n"
     ]
    }
   ],
   "source": [
    "from qiskit.quantum_info import Statevector\n",
    "zero = Statevector([1,0])\n",
    "print(\"zero is\", zero)"
   ]
  },
  {
   "cell_type": "code",
   "execution_count": 3,
   "metadata": {
    "id": "1uKKAuf2FxZX"
   },
   "outputs": [
    {
     "name": "stdout",
     "output_type": "stream",
     "text": [
      "one is Statevector([0.+0.j, 1.+0.j],\n",
      "            dims=(2,))\n"
     ]
    }
   ],
   "source": [
    "one = Statevector([0,1])\n",
    "print(\"one is\",one)"
   ]
  },
  {
   "cell_type": "code",
   "execution_count": 7,
   "metadata": {
    "id": "h6GDC6mzF1RD"
   },
   "outputs": [
    {
     "name": "stdout",
     "output_type": "stream",
     "text": [
      "zero is Statevector([1.+0.j, 0.+0.j],\n",
      "            dims=(2,))\n",
      "one is Statevector([0.+0.j, 1.+0.j],\n",
      "            dims=(2,))\n",
      "dos is Statevector([0.+0.j, 0.+0.j, 1.+0.j, 0.+0.j],\n",
      "            dims=(2, 2))\n"
     ]
    }
   ],
   "source": [
    "zero = Statevector.from_int(0, dims = 2)\n",
    "one = Statevector.from_int(1, dims = 2)\n",
    "dos = Statevector.from_int(2, dims = 4)\n",
    "print(\"zero is\",zero)\n",
    "print(\"one is\",one)\n",
    "print(\"dos is\",dos)"
   ]
  },
  {
   "cell_type": "code",
   "execution_count": 10,
   "metadata": {
    "id": "sbAtXwKrF5Wy"
   },
   "outputs": [
    {
     "name": "stdout",
     "output_type": "stream",
     "text": [
      "psi is Statevector([0.+0.j, 0.+0.j, 0.+0.j, 0.+0.j, 1.+0.j, 0.+0.j, 0.+0.j,\n",
      "             0.+0.j],\n",
      "            dims=(2, 2, 2))\n"
     ]
    },
    {
     "data": {
      "text/latex": [
       "$$ |100\\rangle$$"
      ],
      "text/plain": [
       "<IPython.core.display.Latex object>"
      ]
     },
     "execution_count": 10,
     "metadata": {},
     "output_type": "execute_result"
    }
   ],
   "source": [
    "psi = one.tensor(zero.tensor(zero))\n",
    "print(\"psi is\",psi)\n",
    "psi.draw(\"latex\")"
   ]
  },
  {
   "cell_type": "code",
   "execution_count": 9,
   "metadata": {
    "id": "nYZQFxuWF-C5"
   },
   "outputs": [
    {
     "data": {
      "text/latex": [
       "$$ |100\\rangle$$"
      ],
      "text/plain": [
       "<IPython.core.display.Latex object>"
      ]
     },
     "execution_count": 9,
     "metadata": {},
     "output_type": "execute_result"
    }
   ],
   "source": [
    "psi = one^zero^zero\n",
    "psi.draw(\"latex\")"
   ]
  },
  {
   "cell_type": "code",
   "execution_count": 11,
   "metadata": {
    "id": "x1kG7llVGGI_"
   },
   "outputs": [
    {
     "name": "stdout",
     "output_type": "stream",
     "text": [
      "Statevector([0.+0.j, 0.+0.j, 0.+0.j, 0.+0.j, 1.+0.j, 0.+0.j, 0.+0.j,\n",
      "             0.+0.j],\n",
      "            dims=(2, 2, 2))\n"
     ]
    },
    {
     "data": {
      "text/latex": [
       "$$ |100\\rangle$$"
      ],
      "text/plain": [
       "<IPython.core.display.Latex object>"
      ]
     },
     "execution_count": 11,
     "metadata": {},
     "output_type": "execute_result"
    }
   ],
   "source": [
    "psi = Statevector.from_int(4, dims = 8)\n",
    "print(psi)\n",
    "psi.draw(\"latex\")"
   ]
  },
  {
   "cell_type": "code",
   "execution_count": 12,
   "metadata": {
    "id": "Xt4vnSoIGJ_I"
   },
   "outputs": [
    {
     "data": {
      "text/latex": [
       "$$\\frac{\\sqrt{2}}{2} |000\\rangle+\\frac{\\sqrt{2}}{2} |111\\rangle$$"
      ],
      "text/plain": [
       "<IPython.core.display.Latex object>"
      ]
     },
     "execution_count": 12,
     "metadata": {},
     "output_type": "execute_result"
    }
   ],
   "source": [
    "from numpy import sqrt\n",
    "ghz = 1/sqrt(2)*(zero^zero^zero) + 1/sqrt(2)*(one^one^one)\n",
    "ghz.draw(\"latex\")"
   ]
  },
  {
   "cell_type": "markdown",
   "metadata": {
    "id": "Zvmgs6GrGnQT"
   },
   "source": [
    "## 0.2- Hamiltonians"
   ]
  },
  {
   "cell_type": "code",
   "execution_count": 13,
   "metadata": {
    "id": "biZDbIE_GYoX"
   },
   "outputs": [
    {
     "name": "stdout",
     "output_type": "stream",
     "text": [
      "Z0Z1 is ZZI\n",
      "And its matrix is\n",
      "[[ 1.+0.j  0.+0.j  0.+0.j  0.+0.j  0.+0.j  0.+0.j  0.+0.j  0.+0.j]\n",
      " [ 0.+0.j  1.+0.j  0.+0.j  0.+0.j  0.+0.j  0.+0.j  0.+0.j  0.+0.j]\n",
      " [ 0.+0.j  0.+0.j -1.+0.j  0.+0.j  0.+0.j  0.+0.j  0.+0.j  0.+0.j]\n",
      " [ 0.+0.j  0.+0.j  0.+0.j -1.+0.j  0.+0.j  0.+0.j  0.+0.j  0.+0.j]\n",
      " [ 0.+0.j  0.+0.j  0.+0.j  0.+0.j -1.+0.j  0.+0.j  0.+0.j  0.+0.j]\n",
      " [ 0.+0.j  0.+0.j  0.+0.j  0.+0.j  0.+0.j -1.+0.j  0.+0.j  0.+0.j]\n",
      " [ 0.+0.j  0.+0.j  0.+0.j  0.+0.j  0.+0.j  0.+0.j  1.+0.j  0.+0.j]\n",
      " [ 0.+0.j  0.+0.j  0.+0.j  0.+0.j  0.+0.j  0.+0.j  0.+0.j  1.+0.j]]\n"
     ]
    }
   ],
   "source": [
    "from qiskit.quantum_info import Pauli\n",
    "Z0Z1 = Pauli(\"ZZI\")\n",
    "print(\"Z0Z1 is\",Z0Z1)\n",
    "print(\"And its matrix is\")\n",
    "print(Z0Z1.to_matrix())"
   ]
  },
  {
   "cell_type": "code",
   "execution_count": 14,
   "metadata": {
    "id": "lZzT7H3WGqmx"
   },
   "outputs": [
    {
     "name": "stdout",
     "output_type": "stream",
     "text": [
      "The sparse representation of Z0Z1 is\n",
      "  (0, 0)\t(1+0j)\n",
      "  (1, 1)\t(1+0j)\n",
      "  (2, 2)\t(-1+0j)\n",
      "  (3, 3)\t(-1+0j)\n",
      "  (4, 4)\t(-1+0j)\n",
      "  (5, 5)\t(-1+0j)\n",
      "  (6, 6)\t(1+0j)\n",
      "  (7, 7)\t(1+0j)\n"
     ]
    }
   ],
   "source": [
    "print(\"The sparse representation of Z0Z1 is\")\n",
    "print(Z0Z1.to_matrix(sparse=True))"
   ]
  },
  {
   "cell_type": "code",
   "execution_count": 15,
   "metadata": {
    "id": "YCmGdR7cG-wk"
   },
   "outputs": [
    {
     "name": "stdout",
     "output_type": "stream",
     "text": [
      "  (0, 0)\t(1+0j)\n",
      "  (1, 1)\t(1+0j)\n",
      "  (2, 2)\t(-1+0j)\n",
      "  (3, 3)\t(-1+0j)\n",
      "  (4, 4)\t(-1+0j)\n",
      "  (5, 5)\t(-1+0j)\n",
      "  (6, 6)\t(1+0j)\n",
      "  (7, 7)\t(1+0j)\n"
     ]
    }
   ],
   "source": [
    "# Ojo, se enumera contando por el final\n",
    "Z0Z1 = Pauli(([0,1,1],[0,0,0]))\n",
    "print(Z0Z1.to_matrix(sparse=True))"
   ]
  },
  {
   "cell_type": "code",
   "execution_count": 16,
   "metadata": {
    "id": "JZsGLF0lIQQr"
   },
   "outputs": [
    {
     "name": "stdout",
     "output_type": "stream",
     "text": [
      "H_cut is\n",
      "1.0 * ZZI\n",
      "+ 1.0 * ZIZ\n",
      "The sparse representation of H_cut is\n",
      "  (0, 0)\t(2+0j)\n",
      "  (3, 3)\t(-2+0j)\n",
      "  (4, 4)\t(-2+0j)\n",
      "  (7, 7)\t(2+0j)\n"
     ]
    }
   ],
   "source": [
    "from qiskit.opflow.primitive_ops import PauliOp\n",
    "H_cut = PauliOp(Pauli(\"ZZI\")) + PauliOp(Pauli(\"ZIZ\"))\n",
    "print(\"H_cut is\")\n",
    "print(H_cut)\n",
    "print(\"The sparse representation of H_cut is\")\n",
    "print(H_cut.to_spmatrix())"
   ]
  },
  {
   "cell_type": "code",
   "execution_count": 17,
   "metadata": {
    "id": "zMMEIKWNIT9R"
   },
   "outputs": [
    {
     "name": "stdout",
     "output_type": "stream",
     "text": [
      "H_cut is\n",
      "1.0 * ZZI\n",
      "+ 1.0 * ZIZ\n"
     ]
    }
   ],
   "source": [
    "from qiskit.opflow import I, Z\n",
    "H_cut = (Z^Z^I) + (Z^I^Z)\n",
    "print(\"H_cut is\")\n",
    "print(H_cut)"
   ]
  },
  {
   "cell_type": "code",
   "execution_count": 18,
   "metadata": {
    "id": "ywsiH4UIItUj"
   },
   "outputs": [
    {
     "name": "stdout",
     "output_type": "stream",
     "text": [
      "-0.5 * ZZI\n",
      "+ 2.0 * ZIZ\n",
      "- 1.0 * IZZ\n",
      "+ 1.0 * IZI\n",
      "- 5.0 * IIZ\n"
     ]
    }
   ],
   "source": [
    "H_ising = -0.5*(Z^Z^I) + 2*(Z^I^Z) -(I^Z^Z) + (I^Z^I) -5*(I^I^Z)\n",
    "print(H_ising)"
   ]
  },
  {
   "cell_type": "markdown",
   "metadata": {
    "id": "N0l09joRI1qB"
   },
   "source": [
    "## 0.3- Expectation values"
   ]
  },
  {
   "cell_type": "code",
   "execution_count": 19,
   "metadata": {
    "id": "NRMwPowaIyrE"
   },
   "outputs": [
    {
     "name": "stdout",
     "output_type": "stream",
     "text": [
      "The expectation value is (-2+0j)\n"
     ]
    }
   ],
   "source": [
    "print(\"The expectation value is\", psi.expectation_value(H_cut))"
   ]
  },
  {
   "cell_type": "code",
   "execution_count": 20,
   "metadata": {
    "id": "GJXfu1ffJBq2"
   },
   "outputs": [
    {
     "name": "stdout",
     "output_type": "stream",
     "text": [
      "The expectation value of | 0 > is (2+0j)\n",
      "The expectation value of | 1 > is 0j\n",
      "The expectation value of | 2 > is 0j\n",
      "The expectation value of | 3 > is (-2+0j)\n",
      "The expectation value of | 4 > is (-2+0j)\n",
      "The expectation value of | 5 > is 0j\n",
      "The expectation value of | 6 > is 0j\n",
      "The expectation value of | 7 > is (2+0j)\n"
     ]
    }
   ],
   "source": [
    "for x in range(8): # We consider x=0,1...7\n",
    "    psi = psi = Statevector.from_int(x, dims = 8)\n",
    "    print(\"The expectation value of |\",x,\">\", \"is\", \n",
    "        psi.expectation_value(H_cut))"
   ]
  },
  {
   "cell_type": "code",
   "execution_count": null,
   "metadata": {},
   "outputs": [],
   "source": []
  }
 ],
 "metadata": {
  "colab": {
   "provenance": []
  },
  "kernelspec": {
   "display_name": "Python 3 (ipykernel)",
   "language": "python",
   "name": "python3"
  },
  "language_info": {
   "codemirror_mode": {
    "name": "ipython",
    "version": 3
   },
   "file_extension": ".py",
   "mimetype": "text/x-python",
   "name": "python",
   "nbconvert_exporter": "python",
   "pygments_lexer": "ipython3",
   "version": "3.10.5"
  }
 },
 "nbformat": 4,
 "nbformat_minor": 1
}
