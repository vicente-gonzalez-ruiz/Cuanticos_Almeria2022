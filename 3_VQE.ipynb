{
 "cells": [
  {
   "cell_type": "markdown",
   "metadata": {
    "id": "Jy8zoPFVL7v1"
   },
   "source": [
    "# 3.-VQE\n",
    "\n",
    "### Setup"
   ]
  },
  {
   "cell_type": "code",
   "execution_count": 1,
   "metadata": {
    "id": "Wh0ADYK2yfvP"
   },
   "outputs": [
    {
     "name": "stdout",
     "output_type": "stream",
     "text": [
      "Defaulting to user installation because normal site-packages is not writeable\n",
      "Requirement already satisfied: qiskit in /home/vruiz/.local/lib/python3.10/site-packages (0.36.2)\n",
      "Requirement already satisfied: qiskit-terra==0.20.2 in /home/vruiz/.local/lib/python3.10/site-packages (from qiskit) (0.20.2)\n",
      "Requirement already satisfied: qiskit-aer==0.10.4 in /home/vruiz/.local/lib/python3.10/site-packages (from qiskit) (0.10.4)\n",
      "Requirement already satisfied: qiskit-ibmq-provider==0.19.1 in /home/vruiz/.local/lib/python3.10/site-packages (from qiskit) (0.19.1)\n",
      "Requirement already satisfied: qiskit-ignis==0.7.1 in /home/vruiz/.local/lib/python3.10/site-packages (from qiskit) (0.7.1)\n",
      "Requirement already satisfied: numpy>=1.16.3 in /home/vruiz/.local/lib/python3.10/site-packages (from qiskit-aer==0.10.4->qiskit) (1.22.4)\n",
      "Requirement already satisfied: scipy>=1.0 in /home/vruiz/.local/lib/python3.10/site-packages (from qiskit-aer==0.10.4->qiskit) (1.7.3)\n",
      "Requirement already satisfied: requests>=2.19 in /usr/lib/python3.10/site-packages (from qiskit-ibmq-provider==0.19.1->qiskit) (2.28.1)\n",
      "Requirement already satisfied: requests-ntlm>=1.1.0 in /home/vruiz/.local/lib/python3.10/site-packages (from qiskit-ibmq-provider==0.19.1->qiskit) (1.1.0)\n",
      "Requirement already satisfied: urllib3>=1.21.1 in /usr/lib/python3.10/site-packages (from qiskit-ibmq-provider==0.19.1->qiskit) (1.26.11)\n",
      "Requirement already satisfied: python-dateutil>=2.8.0 in /home/vruiz/.local/lib/python3.10/site-packages (from qiskit-ibmq-provider==0.19.1->qiskit) (2.8.2)\n",
      "Requirement already satisfied: websocket-client>=1.0.1 in /home/vruiz/.local/lib/python3.10/site-packages (from qiskit-ibmq-provider==0.19.1->qiskit) (1.3.2)\n",
      "Requirement already satisfied: websockets>=10.0 in /home/vruiz/.local/lib/python3.10/site-packages (from qiskit-ibmq-provider==0.19.1->qiskit) (10.3)\n",
      "Requirement already satisfied: retworkx>=0.8.0 in /home/vruiz/.local/lib/python3.10/site-packages (from qiskit-ignis==0.7.1->qiskit) (0.11.0)\n",
      "Requirement already satisfied: setuptools>=40.1.0 in /usr/lib/python3.10/site-packages (from qiskit-ignis==0.7.1->qiskit) (61.3.1)\n",
      "Requirement already satisfied: ply>=3.10 in /usr/lib/python3.10/site-packages (from qiskit-terra==0.20.2->qiskit) (3.11)\n",
      "Requirement already satisfied: psutil>=5 in /usr/lib/python3.10/site-packages (from qiskit-terra==0.20.2->qiskit) (5.9.1)\n",
      "Requirement already satisfied: sympy>=1.3 in /home/vruiz/.local/lib/python3.10/site-packages (from qiskit-terra==0.20.2->qiskit) (1.10.1)\n",
      "Requirement already satisfied: dill>=0.3 in /home/vruiz/.local/lib/python3.10/site-packages (from qiskit-terra==0.20.2->qiskit) (0.3.5.1)\n",
      "Requirement already satisfied: python-constraint>=1.4 in /home/vruiz/.local/lib/python3.10/site-packages (from qiskit-terra==0.20.2->qiskit) (1.4.0)\n",
      "Requirement already satisfied: stevedore>=3.0.0 in /home/vruiz/.local/lib/python3.10/site-packages (from qiskit-terra==0.20.2->qiskit) (3.5.0)\n",
      "Requirement already satisfied: tweedledum<2.0,>=1.1 in /home/vruiz/.local/lib/python3.10/site-packages (from qiskit-terra==0.20.2->qiskit) (1.1.1)\n",
      "Requirement already satisfied: symengine>=0.9 in /home/vruiz/.local/lib/python3.10/site-packages (from qiskit-terra==0.20.2->qiskit) (0.9.2)\n",
      "Requirement already satisfied: six>=1.5 in /usr/lib/python3.10/site-packages (from python-dateutil>=2.8.0->qiskit-ibmq-provider==0.19.1->qiskit) (1.16.0)\n",
      "Requirement already satisfied: idna<4,>=2.5 in /usr/lib/python3.10/site-packages (from requests>=2.19->qiskit-ibmq-provider==0.19.1->qiskit) (3.3)\n",
      "Requirement already satisfied: ntlm-auth>=1.0.2 in /home/vruiz/.local/lib/python3.10/site-packages (from requests-ntlm>=1.1.0->qiskit-ibmq-provider==0.19.1->qiskit) (1.5.0)\n",
      "Requirement already satisfied: cryptography>=1.3 in /usr/lib/python3.10/site-packages (from requests-ntlm>=1.1.0->qiskit-ibmq-provider==0.19.1->qiskit) (37.0.4)\n",
      "Requirement already satisfied: pbr!=2.1.0,>=2.0.0 in /home/vruiz/.local/lib/python3.10/site-packages (from stevedore>=3.0.0->qiskit-terra==0.20.2->qiskit) (5.9.0)\n",
      "Requirement already satisfied: mpmath>=0.19 in /home/vruiz/.local/lib/python3.10/site-packages (from sympy>=1.3->qiskit-terra==0.20.2->qiskit) (1.2.1)\n",
      "Requirement already satisfied: cffi>=1.12 in /usr/lib/python3.10/site-packages (from cryptography>=1.3->requests-ntlm>=1.1.0->qiskit-ibmq-provider==0.19.1->qiskit) (1.15.1)\n",
      "Requirement already satisfied: pycparser in /usr/lib/python3.10/site-packages (from cffi>=1.12->cryptography>=1.3->requests-ntlm>=1.1.0->qiskit-ibmq-provider==0.19.1->qiskit) (2.21)\n",
      "Note: you may need to restart the kernel to use updated packages.\n"
     ]
    }
   ],
   "source": [
    "pip install qiskit"
   ]
  },
  {
   "cell_type": "code",
   "execution_count": 2,
   "metadata": {
    "id": "kJLLCRr_L2RD"
   },
   "outputs": [
    {
     "name": "stdout",
     "output_type": "stream",
     "text": [
      "Defaulting to user installation because normal site-packages is not writeable\n",
      "Collecting qiskit-nature\n",
      "  Downloading qiskit_nature-0.4.5-py3-none-any.whl (2.0 MB)\n",
      "\u001b[2K     \u001b[38;2;114;156;31m━━━━━━━━━━━━━━━━━━━━━━━━━━━━━━━━━━━━━━━━\u001b[0m \u001b[32m2.0/2.0 MB\u001b[0m \u001b[31m4.2 MB/s\u001b[0m eta \u001b[36m0:00:00\u001b[0mm eta \u001b[36m0:00:01\u001b[0m[36m0:00:01\u001b[0m\n",
      "\u001b[?25hCollecting qiskit-terra>=0.21.0\n",
      "  Downloading qiskit_terra-0.22.0-cp310-cp310-manylinux_2_17_x86_64.manylinux2014_x86_64.whl (4.7 MB)\n",
      "\u001b[2K     \u001b[38;2;114;156;31m━━━━━━━━━━━━━━━━━━━━━━━━━━━━━━━━━━━━━━━━\u001b[0m \u001b[32m4.7/4.7 MB\u001b[0m \u001b[31m4.4 MB/s\u001b[0m eta \u001b[36m0:00:00\u001b[0mm eta \u001b[36m0:00:01\u001b[0m[36m0:00:01\u001b[0m\n",
      "\u001b[?25hRequirement already satisfied: scipy>=1.4 in /home/vruiz/.local/lib/python3.10/site-packages (from qiskit-nature) (1.7.3)\n",
      "Requirement already satisfied: numpy>=1.17 in /home/vruiz/.local/lib/python3.10/site-packages (from qiskit-nature) (1.22.4)\n",
      "Requirement already satisfied: psutil>=5 in /usr/lib/python3.10/site-packages (from qiskit-nature) (5.9.1)\n",
      "Requirement already satisfied: scikit-learn>=0.20.0 in /home/vruiz/.local/lib/python3.10/site-packages (from qiskit-nature) (1.0.2)\n",
      "Requirement already satisfied: setuptools>=40.1.0 in /usr/lib/python3.10/site-packages (from qiskit-nature) (61.3.1)\n",
      "Requirement already satisfied: typing-extensions in /home/vruiz/.local/lib/python3.10/site-packages (from qiskit-nature) (4.4.0)\n",
      "Requirement already satisfied: h5py in /home/vruiz/.local/lib/python3.10/site-packages (from qiskit-nature) (3.7.0)\n",
      "Requirement already satisfied: retworkx>=0.10.1 in /home/vruiz/.local/lib/python3.10/site-packages (from qiskit-nature) (0.11.0)\n",
      "Requirement already satisfied: ply>=3.10 in /usr/lib/python3.10/site-packages (from qiskit-terra>=0.21.0->qiskit-nature) (3.11)\n",
      "Requirement already satisfied: sympy>=1.3 in /home/vruiz/.local/lib/python3.10/site-packages (from qiskit-terra>=0.21.0->qiskit-nature) (1.10.1)\n",
      "Requirement already satisfied: dill>=0.3 in /home/vruiz/.local/lib/python3.10/site-packages (from qiskit-terra>=0.21.0->qiskit-nature) (0.3.5.1)\n",
      "Requirement already satisfied: python-dateutil>=2.8.0 in /home/vruiz/.local/lib/python3.10/site-packages (from qiskit-terra>=0.21.0->qiskit-nature) (2.8.2)\n",
      "Requirement already satisfied: stevedore>=3.0.0 in /home/vruiz/.local/lib/python3.10/site-packages (from qiskit-terra>=0.21.0->qiskit-nature) (3.5.0)\n",
      "Requirement already satisfied: tweedledum<2.0,>=1.1 in /home/vruiz/.local/lib/python3.10/site-packages (from qiskit-terra>=0.21.0->qiskit-nature) (1.1.1)\n",
      "Requirement already satisfied: symengine>=0.9 in /home/vruiz/.local/lib/python3.10/site-packages (from qiskit-terra>=0.21.0->qiskit-nature) (0.9.2)\n",
      "Requirement already satisfied: joblib>=0.11 in /home/vruiz/.local/lib/python3.10/site-packages (from scikit-learn>=0.20.0->qiskit-nature) (1.1.0)\n",
      "Requirement already satisfied: threadpoolctl>=2.0.0 in /home/vruiz/.local/lib/python3.10/site-packages (from scikit-learn>=0.20.0->qiskit-nature) (3.1.0)\n",
      "Requirement already satisfied: six>=1.5 in /usr/lib/python3.10/site-packages (from python-dateutil>=2.8.0->qiskit-terra>=0.21.0->qiskit-nature) (1.16.0)\n",
      "Requirement already satisfied: pbr!=2.1.0,>=2.0.0 in /home/vruiz/.local/lib/python3.10/site-packages (from stevedore>=3.0.0->qiskit-terra>=0.21.0->qiskit-nature) (5.9.0)\n",
      "Requirement already satisfied: mpmath>=0.19 in /home/vruiz/.local/lib/python3.10/site-packages (from sympy>=1.3->qiskit-terra>=0.21.0->qiskit-nature) (1.2.1)\n",
      "Installing collected packages: qiskit-terra, qiskit-nature\n",
      "  Attempting uninstall: qiskit-terra\n",
      "    Found existing installation: qiskit-terra 0.20.2\n",
      "    Uninstalling qiskit-terra-0.20.2:\n",
      "      Successfully uninstalled qiskit-terra-0.20.2\n",
      "\u001b[31mERROR: pip's dependency resolver does not currently take into account all the packages that are installed. This behaviour is the source of the following dependency conflicts.\n",
      "qiskit 0.36.2 requires qiskit-terra==0.20.2, but you have qiskit-terra 0.22.0 which is incompatible.\u001b[0m\u001b[31m\n",
      "\u001b[0mSuccessfully installed qiskit-nature-0.4.5 qiskit-terra-0.22.0\n",
      "Note: you may need to restart the kernel to use updated packages.\n"
     ]
    }
   ],
   "source": [
    "pip install qiskit-nature"
   ]
  },
  {
   "cell_type": "code",
   "execution_count": 3,
   "metadata": {
    "id": "XH1RDgjgM6eN"
   },
   "outputs": [
    {
     "name": "stdout",
     "output_type": "stream",
     "text": [
      "Defaulting to user installation because normal site-packages is not writeable\n",
      "Requirement already satisfied: pylatexenc in /home/vruiz/.local/lib/python3.10/site-packages (2.10)\n",
      "Note: you may need to restart the kernel to use updated packages.\n"
     ]
    }
   ],
   "source": [
    "pip install pylatexenc"
   ]
  },
  {
   "cell_type": "code",
   "execution_count": 4,
   "metadata": {
    "id": "WH9iodpaL5gb"
   },
   "outputs": [
    {
     "name": "stdout",
     "output_type": "stream",
     "text": [
      "Defaulting to user installation because normal site-packages is not writeable\n",
      "Collecting pyscf\n",
      "  Downloading pyscf-2.1.1-cp310-cp310-manylinux_2_12_x86_64.manylinux2010_x86_64.whl (38.2 MB)\n",
      "\u001b[2K     \u001b[38;2;114;156;31m━━━━━━━━━━━━━━━━━━━━━━━━━━━━━━━━━━━━━━━━\u001b[0m \u001b[32m38.2/38.2 MB\u001b[0m \u001b[31m4.1 MB/s\u001b[0m eta \u001b[36m0:00:00\u001b[0mm eta \u001b[36m0:00:01\u001b[0m[36m0:00:01\u001b[0m\n",
      "\u001b[?25hRequirement already satisfied: numpy!=1.16,!=1.17,>=1.13 in /home/vruiz/.local/lib/python3.10/site-packages (from pyscf) (1.22.4)\n",
      "Requirement already satisfied: scipy!=1.5.0,!=1.5.1 in /home/vruiz/.local/lib/python3.10/site-packages (from pyscf) (1.7.3)\n",
      "Requirement already satisfied: h5py>=2.7 in /home/vruiz/.local/lib/python3.10/site-packages (from pyscf) (3.7.0)\n",
      "Installing collected packages: pyscf\n",
      "Successfully installed pyscf-2.1.1\n",
      "Note: you may need to restart the kernel to use updated packages.\n"
     ]
    }
   ],
   "source": [
    "pip install pyscf"
   ]
  },
  {
   "cell_type": "code",
   "execution_count": 5,
   "metadata": {
    "id": "yYlnwjf8xE1k"
   },
   "outputs": [],
   "source": [
    "token=\"3d5d9f16fe638dd61f2fb72a4d457d66a2879d99254cbb251612ff82a2d82726a74d454cc2db1e2717262bb30ac63eeadecbf757fc2ada3c7f39f699ed818e06\""
   ]
  },
  {
   "cell_type": "markdown",
   "metadata": {
    "id": "DVjZqXFyMF_I"
   },
   "source": [
    "## 3.1- A simple example of VQE"
   ]
  },
  {
   "cell_type": "code",
   "execution_count": null,
   "metadata": {
    "id": "NVSfaF0eylbj"
   },
   "outputs": [],
   "source": [
    "from qiskit_nature.drivers import Molecule\n",
    "from qiskit_nature.drivers.second_quantization import ElectronicStructureMoleculeDriver, ElectronicStructureDriverType\n",
    "from qiskit_nature.problems.second_quantization import ElectronicStructureProblem\n",
    "from qiskit_nature.converters.second_quantization import QubitConverter\n",
    "from qiskit_nature.mappers.second_quantization import JordanWignerMapper\n",
    "\n",
    "mol = Molecule(geometry=[['H', [0., 0., -0.37]],\n",
    "                              ['H', [0., 0., 0.37]]],\n",
    "                     charge=0, multiplicity=1)\n",
    "\n",
    "driver = ElectronicStructureMoleculeDriver(mol, basis='sto3g', \n",
    "        driver_type=ElectronicStructureDriverType.PYSCF)\n",
    "problem = ElectronicStructureProblem(driver)\n",
    "qconverter = QubitConverter(JordanWignerMapper())\n",
    "secqop = problem.second_q_ops()\n",
    "print(secqop[0])\n",
    "qhamiltonian = qconverter.convert(secqop[0])\n",
    "print(\"Qubit Hamiltonian\")\n",
    "print(qhamiltonian)"
   ]
  },
  {
   "cell_type": "code",
   "execution_count": null,
   "metadata": {
    "id": "rr5Nv0wUytyS"
   },
   "outputs": [],
   "source": [
    "from qiskit.circuit.library import EfficientSU2\n",
    "\n",
    "ansatz = EfficientSU2(num_qubits=4, reps=1, entanglement=\"linear\", insert_barriers = True)\n",
    "ansatz.decompose().draw(\"mpl\")"
   ]
  },
  {
   "cell_type": "code",
   "execution_count": null,
   "metadata": {
    "id": "mnIXvKJQzgVc"
   },
   "outputs": [],
   "source": [
    "from qiskit.algorithms import VQE\n",
    "from qiskit import Aer\n",
    "from qiskit.utils import QuantumInstance\n",
    "import numpy as np\n",
    "from qiskit.algorithms.optimizers import COBYLA\n",
    "\n",
    "seed = 1234\n",
    "np.random.seed(seed)\n",
    "\n",
    "optimizer = COBYLA()\n",
    "\n",
    "initial_point = np.random.random(ansatz.num_parameters)\n",
    "quantum_instance = QuantumInstance(backend = Aer.get_backend('aer_simulator_statevector'))\n",
    "\n",
    "vqe = VQE(\n",
    "    ansatz=ansatz,\n",
    "    optimizer=optimizer,\n",
    "    initial_point=initial_point,\n",
    "    quantum_instance=quantum_instance\n",
    ")\n",
    "\n",
    "result = vqe.compute_minimum_eigenvalue(qhamiltonian)\n",
    "\n",
    "print(result)\n"
   ]
  },
  {
   "cell_type": "code",
   "execution_count": null,
   "metadata": {
    "id": "aYzTrJo3abU2"
   },
   "outputs": [],
   "source": [
    "from qiskit.algorithms import NumPyMinimumEigensolver\n",
    "solver = NumPyMinimumEigensolver()\n",
    "result = solver.compute_minimum_eigenvalue(qhamiltonian)\n",
    "print(result)"
   ]
  },
  {
   "cell_type": "code",
   "execution_count": null,
   "metadata": {
    "id": "CZzCTTJFzHw3"
   },
   "outputs": [],
   "source": [
    "from qiskit.algorithms import VQD\n",
    "solver = VQD(ansatz=ansatz,\n",
    "    optimizer=optimizer,\n",
    "    initial_point=initial_point,\n",
    "    quantum_instance=quantum_instance,\n",
    "    k = 2)\n",
    "result = solver.compute_eigenvalues(qhamiltonian)\n",
    "print(result)"
   ]
  },
  {
   "cell_type": "code",
   "execution_count": null,
   "metadata": {
    "id": "wEQmj06bzvBD"
   },
   "outputs": [],
   "source": [
    "from qiskit_nature.algorithms import GroundStateEigensolver\n",
    "\n",
    "solver = GroundStateEigensolver(qconverter, vqe)\n",
    "result = solver.solve(problem)\n",
    "print(result)"
   ]
  },
  {
   "cell_type": "code",
   "execution_count": null,
   "metadata": {
    "id": "xUY7cptRa6T-"
   },
   "outputs": [],
   "source": [
    "print(result.total_energies)"
   ]
  },
  {
   "cell_type": "markdown",
   "metadata": {
    "id": "OvPuOsOqRC7S"
   },
   "source": [
    "##3.2- A more complicated ansatz"
   ]
  },
  {
   "cell_type": "code",
   "execution_count": null,
   "metadata": {
    "id": "gTNANztX0TgV"
   },
   "outputs": [],
   "source": [
    "from qiskit_nature.algorithms import VQEUCCFactory\n",
    "\n",
    "vqeuccf = VQEUCCFactory(quantum_instance = quantum_instance)\n",
    "vqeuccf.get_solver(problem, qconverter).ansatz.decompose().draw(filename=\"ucc.png\",output=\"mpl\")"
   ]
  },
  {
   "cell_type": "code",
   "execution_count": null,
   "metadata": {
    "id": "4QjlovOXRVX7"
   },
   "outputs": [],
   "source": [
    "solver = GroundStateEigensolver(qconverter, vqeuccf)\n",
    "result = solver.solve(problem)\n",
    "print(result)"
   ]
  },
  {
   "cell_type": "markdown",
   "metadata": {
    "id": "cOj2mnxA2sO0"
   },
   "source": [
    "##3.3- Noisy simulation"
   ]
  },
  {
   "cell_type": "code",
   "execution_count": null,
   "metadata": {
    "id": "Q7p14spz2yzP"
   },
   "outputs": [],
   "source": [
    "from qiskit.providers.aer import AerSimulator\n",
    "from qiskit import IBMQ\n",
    "\n",
    "IBMQ.save_account(token)\n",
    "provider = IBMQ.load_account()\n",
    "backend = provider.get_backend('ibmq_manila')\n",
    "quantum_instance = QuantumInstance(backend = AerSimulator.from_backend(backend),\n",
    "                                   seed_simulator=seed, seed_transpiler = seed)\n",
    "\n",
    "vqe = VQE(\n",
    "    ansatz=ansatz,\n",
    "    optimizer=optimizer,\n",
    "    initial_point=initial_point,\n",
    "    quantum_instance=quantum_instance\n",
    "    #shots=1024\n",
    ")\n",
    "\n",
    "solver = GroundStateEigensolver(qconverter, vqe)\n",
    "result = solver.solve(problem)\n",
    "print(result)"
   ]
  },
  {
   "cell_type": "code",
   "execution_count": null,
   "metadata": {
    "id": "EHraAy6J3FJ9"
   },
   "outputs": [],
   "source": [
    "from qiskit.utils.mitigation import CompleteMeasFitter\n",
    "\n",
    "quantum_instance = QuantumInstance(backend = AerSimulator.from_backend(backend),\n",
    "                                   measurement_error_mitigation_cls=CompleteMeasFitter,\n",
    "                                   seed_simulator=seed, seed_transpiler = seed)\n",
    "\n",
    "\n",
    "vqe = VQE(\n",
    "    ansatz=ansatz,\n",
    "    optimizer=optimizer,\n",
    "    initial_point=initial_point,\n",
    "    quantum_instance=quantum_instance\n",
    ")\n",
    "\n",
    "solver = GroundStateEigensolver(qconverter, vqe)\n",
    "result = solver.solve(problem)\n",
    "print(result)"
   ]
  },
  {
   "cell_type": "code",
   "execution_count": null,
   "metadata": {
    "id": "apySyKZm79BA"
   },
   "outputs": [],
   "source": [
    "from qiskit_nature.runtime import VQEClient\n",
    "#backend = provider.get_backend('ibm_nairobi')\n",
    "backend = provider.get_backend('ibmq_qasm_simulator')\n",
    "\n",
    "vqe = VQEClient(\n",
    "    ansatz=ansatz,\n",
    "    #optimizer=optimizer, DEFAULT -> SPSA\n",
    "    provider=provider,\n",
    "    backend=backend,\n",
    "    #shots=1024,\n",
    "    initial_point = initial_point,\n",
    "    measurement_error_mitigation=False\n",
    ")  \n",
    "\n",
    "\n",
    "solver = GroundStateEigensolver(qconverter, vqe)\n",
    "result = solver.solve(problem)\n",
    "print(result)"
   ]
  },
  {
   "cell_type": "code",
   "execution_count": null,
   "metadata": {
    "id": "3n8T_ZDl179m"
   },
   "outputs": [],
   "source": [
    "vqe = VQEClient(\n",
    "    ansatz=ansatz,\n",
    "    #optimizer=optimizer, DEFAULT -> SPSA\n",
    "    provider=provider,\n",
    "    backend=backend,\n",
    "    #shots=1024,\n",
    "    initial_point = initial_point,\n",
    "    measurement_error_mitigation=True\n",
    ")  # use a complete measurement fitter for error mitigation\n",
    "\n",
    "\n",
    "solver = GroundStateEigensolver(qconverter, vqe)\n",
    "result = solver.solve(problem)\n",
    "print(result)"
   ]
  }
 ],
 "metadata": {
  "colab": {
   "collapsed_sections": [],
   "provenance": []
  },
  "kernelspec": {
   "display_name": "Python 3 (ipykernel)",
   "language": "python",
   "name": "python3"
  },
  "language_info": {
   "codemirror_mode": {
    "name": "ipython",
    "version": 3
   },
   "file_extension": ".py",
   "mimetype": "text/x-python",
   "name": "python",
   "nbconvert_exporter": "python",
   "pygments_lexer": "ipython3",
   "version": "3.10.5"
  }
 },
 "nbformat": 4,
 "nbformat_minor": 1
}
